{
 "cells": [
  {
   "cell_type": "code",
   "execution_count": null,
   "id": "1c8bf487-b9d4-482e-afc5-308fb4f217e3",
   "metadata": {},
   "outputs": [],
   "source": [
    "# تحميل البيانات\n",
    "import pandas as pd\n",
    "\n",
    "df = pd.read_csv(\"../data/patients.csv\")\n",
    "print(\"✅ تم تحميل البيانات بنجاح:\\n\")\n",
    "display(df.head())\n",
    "\n",
    "# --------------------------------------------------\n",
    "\n",
    "# الإحصاءات الوصفية\n",
    "print(\"\\n🔹 الإحصاءات الوصفية:\")\n",
    "display(df.describe())\n",
    "\n",
    "print(\"\\n🔹 توزيع الجنس:\")\n",
    "print(df['Sex'].value_counts())\n",
    "\n",
    "print(\"\\n🔹 توزيع التشخيص:\")\n",
    "print(df['Diagnosis'].value_counts())\n",
    "\n",
    "# --------------------------------------------------\n",
    "\n",
    "# رسم بياني بسيط\n",
    "import matplotlib.pyplot as plt\n",
    "\n",
    "plt.figure(figsize=(8,5))\n",
    "plt.plot(df[\"Age\"], df[\"Cholesterol\"], marker=\"o\")\n",
    "plt.xlabel(\"العمر\")\n",
    "plt.ylabel(\"Cholesterol\")\n",
    "plt.title(\"Cholesterol vs Age\")\n",
    "plt.grid(True)\n",
    "plt.show()\n"
   ]
  }
 ],
 "metadata": {
  "kernelspec": {
   "display_name": "Python 3 (ipykernel)",
   "language": "python",
   "name": "python3"
  },
  "language_info": {
   "codemirror_mode": {
    "name": "ipython",
    "version": 3
   },
   "file_extension": ".py",
   "mimetype": "text/x-python",
   "name": "python",
   "nbconvert_exporter": "python",
   "pygments_lexer": "ipython3",
   "version": "3.11.13"
  }
 },
 "nbformat": 4,
 "nbformat_minor": 5
}
